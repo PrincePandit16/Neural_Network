{
 "cells": [
  {
   "cell_type": "code",
   "execution_count": 3,
   "id": "892940a9-d839-47e7-b3a6-0b2201dac995",
   "metadata": {},
   "outputs": [
    {
     "name": "stdout",
     "output_type": "stream",
     "text": [
      "Epoch 0: Error 20.904057\n",
      "Epoch 100: Error 3.855379\n",
      "Epoch 200: Error 1.993604\n",
      "Epoch 300: Error 1.785949\n",
      "Epoch 400: Error 1.759153\n",
      "Epoch 500: Error 1.752717\n",
      "Epoch 600: Error 1.749062\n",
      "Epoch 700: Error 1.746182\n",
      "Epoch 800: Error 1.743784\n",
      "Epoch 900: Error 1.741773\n",
      "\n",
      "Weights: [2.5159, 2.2846, 2.2514, 2.1698]\n",
      "Prediction: 4.0649 (True avg: 0.4500)\n"
     ]
    }
   ],
   "source": [
    "import random\n",
    "\n",
    "rectangles  = [[random.random() for _ in range(40)] for _ in range(1000)]\n",
    "targets = [sum(rect)/4 for rect in rectangles]\n",
    "\n",
    "weights = [random.uniform (-1,1) for _ in range(4)]\n",
    "learning_rate = 0.01\n",
    "\n",
    "for epoch in range(1000):\n",
    "    total_error = 0\n",
    "    weight_gradients = [0]*4\n",
    "\n",
    "    for rect, target in zip(rectangles,targets):\n",
    "        prediction = sum(w*x for w,x in zip(weights,rect))\n",
    "        error = prediction - target\n",
    "        total_error += error**2\n",
    "\n",
    "        for i in range(4):\n",
    "            weight_gradients[i] += error * rect[i]\n",
    "\n",
    "    for i in range(4):\n",
    "        weights[i] -= learning_rate * (weight_gradients[i] / len(rectangles))\n",
    "\n",
    "    if epoch % 100 == 0:\n",
    "        print(f\"Epoch {epoch}: Error {total_error/len(rectangles):.6f}\")\n",
    "\n",
    "test_data = [0.2,0.5,0.4,0.7]\n",
    "prediction = sum(w*x for w,x in zip(weights, test_data))\n",
    "print(f\"\\nWeights: {[round(w,4) for w in weights]}\")\n",
    "print(f\"Prediction: {prediction:.4f} (True avg: {sum(test_data)/4:.4f})\")"
   ]
  },
  {
   "cell_type": "code",
   "execution_count": null,
   "id": "824420b6-bdc9-4a8a-9a13-dc638451b83e",
   "metadata": {},
   "outputs": [],
   "source": []
  }
 ],
 "metadata": {
  "kernelspec": {
   "display_name": "Python 3 (ipykernel)",
   "language": "python",
   "name": "python3"
  },
  "language_info": {
   "codemirror_mode": {
    "name": "ipython",
    "version": 3
   },
   "file_extension": ".py",
   "mimetype": "text/x-python",
   "name": "python",
   "nbconvert_exporter": "python",
   "pygments_lexer": "ipython3",
   "version": "3.13.5"
  }
 },
 "nbformat": 4,
 "nbformat_minor": 5
}
